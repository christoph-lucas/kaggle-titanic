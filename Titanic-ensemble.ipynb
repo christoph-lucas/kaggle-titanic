{
 "cells": [
  {
   "cell_type": "markdown",
   "metadata": {},
   "source": [
    "# Imports"
   ]
  },
  {
   "cell_type": "code",
   "execution_count": 127,
   "metadata": {},
   "outputs": [],
   "source": [
    "%reload_ext autoreload\n",
    "%autoreload 2\n",
    "%matplotlib inline\n",
    "\n",
    "from utils.data_handling import *\n",
    "from utils.feature_engineering import FeatureExtractor\n",
    "\n",
    "from sklearn.pipeline import Pipeline, FeatureUnion\n",
    "from mlxtend.classifier import StackingClassifier\n",
    "\n",
    "from sklearn.model_selection import train_test_split, cross_val_score, GridSearchCV\n",
    "from sklearn.tree import DecisionTreeClassifier\n",
    "from sklearn.linear_model import LogisticRegression\n",
    "from sklearn.ensemble import RandomForestClassifier\n",
    "from sklearn.svm import SVC\n",
    "from sklearn.metrics import mean_squared_error\n",
    "\n",
    "import pandas as pd\n",
    "import numpy as np\n",
    "import os"
   ]
  },
  {
   "cell_type": "markdown",
   "metadata": {},
   "source": [
    "# Load and Split Data"
   ]
  },
  {
   "cell_type": "code",
   "execution_count": 128,
   "metadata": {},
   "outputs": [
    {
     "name": "stdout",
     "output_type": "stream",
     "text": [
      "712 train + 179 test\n"
     ]
    }
   ],
   "source": [
    "csv_path = os.path.join(\"datasets\", \"titanic-train.csv\")\n",
    "passengers_raw = pd.read_csv(csv_path)\n",
    "\n",
    "train_set, test_set = train_test_split(passengers_raw, test_size=0.2, random_state=32)\n",
    "print(len(train_set), \"train +\", len(test_set), \"test\")\n",
    "train_set = train_set.drop([\"PassengerId\", \"Name\", \"Ticket\"], axis=1)\n",
    "test_set = test_set.drop([\"PassengerId\", \"Name\", \"Ticket\"], axis=1)"
   ]
  },
  {
   "cell_type": "markdown",
   "metadata": {},
   "source": [
    "# Feature Engineering Pipeline"
   ]
  },
  {
   "cell_type": "code",
   "execution_count": 138,
   "metadata": {},
   "outputs": [],
   "source": [
    "featureExtractor = FeatureExtractor()\n",
    "\n",
    "clf1 = RandomForestClassifier(random_state=42, n_estimators=70, max_features=14, max_depth = 6)\n",
    "clf2 = SVC(random_state=42, probability=True)\n",
    "clf3 = DecisionTreeClassifier(random_state=42, max_depth=8, max_features=12)\n",
    "lr = LogisticRegression(C=0.1)\n",
    "sclf = StackingClassifier(classifiers=[clf1, clf2, clf3], \n",
    "                          meta_classifier=lr,\n",
    "                          use_probas=True)\n",
    "\n",
    "full_pipeline = Pipeline([\n",
    "    ('features', featureExtractor.get_feature_union()),\n",
    "    ('clf', sclf)\n",
    "])"
   ]
  },
  {
   "cell_type": "markdown",
   "metadata": {},
   "source": [
    "# Grid Search"
   ]
  },
  {
   "cell_type": "code",
   "execution_count": 141,
   "metadata": {},
   "outputs": [
    {
     "name": "stdout",
     "output_type": "stream",
     "text": [
      "Correct:  143\n",
      "%Correct:  79.8882681564\n",
      "ROC AUC:  0.872130933751\n",
      "Best Params:  {'clf__decisiontreeclassifier__max_depth': 8, 'clf__decisiontreeclassifier__max_features': 12, 'clf__meta-logisticregression__C': 0.1, 'clf__randomforestclassifier__max_depth': 12, 'clf__randomforestclassifier__max_features': 12, 'clf__randomforestclassifier__n_estimators': 70}\n"
     ]
    }
   ],
   "source": [
    "param_grid = [\n",
    "    {'clf__randomforestclassifier__n_estimators': [70], # 65, 70, 75, 80\n",
    "     'clf__randomforestclassifier__max_features': [12], # 10, 12, 14, 16\n",
    "     'clf__randomforestclassifier__max_depth': [12], # 6, 8, 16, 20\n",
    "     'clf__decisiontreeclassifier__max_depth': [8], # 4, 6, 10, 16\n",
    "     'clf__decisiontreeclassifier__max_features': [12], # 4, 8, 12, 16 \n",
    "     'clf__meta-logisticregression__C': [0.1], # 0.03, 0.1, 0.3, 1, 10,\n",
    "    }\n",
    "]\n",
    "\n",
    "grid_search = GridSearchCV(full_pipeline, param_grid, cv=5)\n",
    "grid_search.fit(train_set, train_set_labels)\n",
    "\n",
    "predict(grid_search.best_estimator_, test_set, test_set_labels)\n",
    "print(\"Best Params: \", grid_search.best_params_)\n"
   ]
  },
  {
   "cell_type": "markdown",
   "metadata": {},
   "source": [
    "# Train Model"
   ]
  },
  {
   "cell_type": "code",
   "execution_count": 135,
   "metadata": {},
   "outputs": [],
   "source": [
    "labelEncoder = LabelBinarizer();\n",
    "train_set_labels = unwrap_labels(labelEncoder.fit_transform(train_set[\"Survived\"].values))\n",
    "\n",
    "full_pipeline = full_pipeline.fit(train_set, train_set_labels)\n",
    "\n",
    "attributes = featureExtractor.get_attributes()"
   ]
  },
  {
   "cell_type": "markdown",
   "metadata": {},
   "source": [
    "# Evaluate Model"
   ]
  },
  {
   "cell_type": "code",
   "execution_count": 136,
   "metadata": {},
   "outputs": [
    {
     "name": "stdout",
     "output_type": "stream",
     "text": [
      "Correct:  141\n",
      "%Correct:  78.7709497207\n",
      "ROC AUC:  0.860915492958\n"
     ]
    },
    {
     "data": {
      "text/plain": [
       "0.86091549295774639"
      ]
     },
     "execution_count": 136,
     "metadata": {},
     "output_type": "execute_result"
    }
   ],
   "source": [
    "test_set_labels = unwrap_labels(labelEncoder.transform(test_set[\"Survived\"].values))\n",
    "\n",
    "predict(full_pipeline, test_set, np.asarray(test_set_labels))"
   ]
  },
  {
   "cell_type": "markdown",
   "metadata": {},
   "source": [
    "# Submission"
   ]
  },
  {
   "cell_type": "code",
   "execution_count": 137,
   "metadata": {},
   "outputs": [],
   "source": [
    "import datetime\n",
    "\n",
    "passengers_raw_labels = unwrap_labels(LabelBinarizer().fit_transform(passengers_raw[\"Survived\"].values))\n",
    "full_pipeline = full_pipeline.fit(passengers_raw, passengers_raw_labels)\n",
    "\n",
    "submission_data_raw = pd.read_csv(\"datasets/titanic-test.csv\")\n",
    "predictions = full_pipeline.predict(submission_data_raw)\n",
    "\n",
    "submission = pd.DataFrame()\n",
    "submission['PassengerId'] = submission_data_raw.PassengerId\n",
    "submission['Survived'] = predictions\n",
    "\n",
    "now = datetime.datetime.now()\n",
    "filename = now.strftime(\"%Y%m%d-%H%M%S\") + '-submission_clucas.csv'\n",
    "submission.to_csv(path_or_buf='submissions/'+filename, index=False)"
   ]
  },
  {
   "cell_type": "code",
   "execution_count": null,
   "metadata": {},
   "outputs": [],
   "source": []
  }
 ],
 "metadata": {
  "kernelspec": {
   "display_name": "Python 3",
   "language": "python",
   "name": "python3"
  },
  "language_info": {
   "codemirror_mode": {
    "name": "ipython",
    "version": 3
   },
   "file_extension": ".py",
   "mimetype": "text/x-python",
   "name": "python",
   "nbconvert_exporter": "python",
   "pygments_lexer": "ipython3",
   "version": "3.6.3"
  }
 },
 "nbformat": 4,
 "nbformat_minor": 2
}
