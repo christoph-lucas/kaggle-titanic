{
 "cells": [
  {
   "cell_type": "markdown",
   "metadata": {},
   "source": [
    "# Imports"
   ]
  },
  {
   "cell_type": "code",
   "execution_count": 1,
   "metadata": {},
   "outputs": [],
   "source": [
    "%reload_ext autoreload\n",
    "%autoreload 2\n",
    "%matplotlib inline\n",
    "\n",
    "from utils.data_loading import load_titanic_data as load\n",
    "from utils.data_handling import *\n",
    "\n",
    "from sklearn.model_selection import train_test_split, cross_val_score, GridSearchCV\n",
    "from sklearn.preprocessing import Imputer, LabelBinarizer, StandardScaler\n",
    "from sklearn.pipeline import Pipeline, FeatureUnion\n",
    "from sklearn.tree import DecisionTreeClassifier\n",
    "from sklearn.linear_model import LinearRegression\n",
    "from sklearn.ensemble import RandomForestClassifier\n",
    "from sklearn.metrics import mean_squared_error\n",
    "\n",
    "import pandas as pd\n",
    "import numpy as np\n",
    "\n",
    "from statsmodels.graphics.mosaicplot import mosaic\n",
    "\n",
    "import matplotlib as plt"
   ]
  },
  {
   "cell_type": "markdown",
   "metadata": {},
   "source": [
    "# Load and Split Data"
   ]
  },
  {
   "cell_type": "code",
   "execution_count": 2,
   "metadata": {},
   "outputs": [
    {
     "name": "stdout",
     "output_type": "stream",
     "text": [
      "712 train + 179 test\n"
     ]
    }
   ],
   "source": [
    "passengers_raw = load()\n",
    "train_set, test_set = train_test_split(passengers_raw, test_size=0.2, random_state=32)\n",
    "print(len(train_set), \"train +\", len(test_set), \"test\")\n",
    "train_set = train_set.drop([\"PassengerId\", \"Name\", \"Ticket\"], axis=1)\n",
    "test_set = test_set.drop([\"PassengerId\", \"Name\", \"Ticket\"], axis=1)"
   ]
  },
  {
   "cell_type": "markdown",
   "metadata": {},
   "source": [
    "# Feature Engineering Pipeline"
   ]
  },
  {
   "cell_type": "code",
   "execution_count": 3,
   "metadata": {},
   "outputs": [],
   "source": [
    "num_attribs = [\"Age\", \"SibSp\", \"Parch\", \"Fare\"]\n",
    "num_pipeline = Pipeline([\n",
    "    ('selector', DataFrameSelector(num_attribs)),\n",
    "    ('imputer', Imputer(strategy=\"median\")),\n",
    "    ('std_scaler', StandardScaler())\n",
    "])\n",
    "\n",
    "# cat_attribs = [\"Pclass\", \"Sex\", \"Embarked\"]\n",
    "class_encoder = LabelBinarizer()\n",
    "class_pipeline = Pipeline([\n",
    "    ('selector', DataFrameSelector([\"Pclass\"])),\n",
    "    ('label_binarizer', class_encoder)\n",
    "])\n",
    "\n",
    "sex_encoder = LabelBinarizer()\n",
    "sex_pipeline = Pipeline([\n",
    "    ('selector', DataFrameSelector([\"Sex\"])),\n",
    "    ('label_binarizer', sex_encoder)\n",
    "])\n",
    "\n",
    "embarked_encoder = LabelBinarizer()\n",
    "embarked_pipeline = Pipeline([\n",
    "    ('fillna', FillNaWith([\"Embarked\"])),\n",
    "    ('selector', DataFrameSelector([\"Embarked\"])),\n",
    "    ('label_binarizer', embarked_encoder)\n",
    "])\n",
    "\n",
    "cabin_transformer = CabinTransformer()\n",
    "cabin_pipeline = Pipeline([\n",
    "    ('fillna', FillNaWith([\"Cabin\"], '')),\n",
    "    ('selector', DataFrameSelector([\"Cabin\"])),\n",
    "    ('cabin_transformer', cabin_transformer)\n",
    "])\n",
    "\n",
    "full_pipeline = FeatureUnion(transformer_list=[\n",
    "    (\"num_pipeline\", num_pipeline),\n",
    "    (\"class_pipeline\", class_pipeline),\n",
    "    (\"sex_pipeline\", sex_pipeline),\n",
    "    (\"embarked_pipeline\", embarked_pipeline),\n",
    "    (\"cabin_pipeline\", cabin_pipeline)\n",
    "])"
   ]
  },
  {
   "cell_type": "markdown",
   "metadata": {},
   "source": [
    "# Train Model"
   ]
  },
  {
   "cell_type": "code",
   "execution_count": 4,
   "metadata": {},
   "outputs": [],
   "source": [
    "labelEncoder = LabelBinarizer();\n",
    "train_set_labels = unwrap_labels(labelEncoder.fit_transform(train_set[\"Survived\"].values))\n",
    "train_set_prepared = full_pipeline.fit_transform(train_set)\n",
    "\n",
    "classifier = RandomForestClassifier()\n",
    "classifier.fit(train_set_prepared, train_set_labels)\n",
    "\n",
    "attributes = num_attribs + list(class_encoder.classes_) + list(sex_encoder.classes_) + list(embarked_encoder.classes_) + cabin_transformer.get_classes()"
   ]
  },
  {
   "cell_type": "markdown",
   "metadata": {},
   "source": [
    "# Evaluate Model"
   ]
  },
  {
   "cell_type": "code",
   "execution_count": 13,
   "metadata": {},
   "outputs": [
    {
     "name": "stdout",
     "output_type": "stream",
     "text": [
      "Correct:  142\n",
      "%Correct:  79.3296089385\n",
      "ROC AUC:  0.852699530516\n"
     ]
    },
    {
     "data": {
      "text/plain": [
       "0.85269953051643188"
      ]
     },
     "execution_count": 13,
     "metadata": {},
     "output_type": "execute_result"
    }
   ],
   "source": [
    "test_set_labels = unwrap_labels(labelEncoder.transform(test_set[\"Survived\"].values))\n",
    "test_set_prepared = full_pipeline.transform(test_set)\n",
    "\n",
    "predict(classifier, test_set_prepared, np.asarray(test_set_labels))"
   ]
  },
  {
   "cell_type": "markdown",
   "metadata": {},
   "source": [
    "# Cross Validation"
   ]
  },
  {
   "cell_type": "code",
   "execution_count": 14,
   "metadata": {},
   "outputs": [
    {
     "name": "stdout",
     "output_type": "stream",
     "text": [
      "Scores:  [ 0.45329841  0.44405304  0.39361095  0.44405304  0.51730613  0.47471266\n",
      "  0.51730613  0.48932261  0.41111323  0.39361095]\n",
      "Mean:  0.453838714467\n",
      "Standard deviation:  0.0436154802596\n"
     ]
    }
   ],
   "source": [
    "scores = cross_val_score(classifier, train_set_prepared, train_set_labels, scoring=\"neg_mean_squared_error\", cv=10)\n",
    "rmse_scores = np.sqrt(-scores)\n",
    "display_scores(rmse_scores)"
   ]
  },
  {
   "cell_type": "markdown",
   "metadata": {},
   "source": [
    "# Grid Search"
   ]
  },
  {
   "cell_type": "code",
   "execution_count": 15,
   "metadata": {},
   "outputs": [
    {
     "name": "stdout",
     "output_type": "stream",
     "text": [
      "Correct:  145\n",
      "%Correct:  81.0055865922\n",
      "ROC AUC:  0.874739175796\n",
      "RSME:  0.874739175796\n",
      "Best Params:  {'max_features': 16, 'n_estimators': 70}\n",
      "Feature Importances: \n"
     ]
    },
    {
     "data": {
      "text/plain": [
       "[(0.27811704269110515, 'female'),\n",
       " (0.22249126960548299, 'Age'),\n",
       " (0.19429401336535027, 'Fare'),\n",
       " (0.080828913329487537, 3),\n",
       " (0.069199654330933183, 'X'),\n",
       " (0.044757544975735586, 'SibSp'),\n",
       " (0.025866261363280015, 'Parch'),\n",
       " (0.013366829469114936, 'Q'),\n",
       " (0.01325620271317958, 'male'),\n",
       " (0.011037317201710339, 2),\n",
       " (0.0082787528452681943, 1),\n",
       " (0.0067568866148619636, 'T'),\n",
       " (0.0066571901379337741, 'Null'),\n",
       " (0.0045681345133907741, 'D'),\n",
       " (0.00424681225249558, 'B'),\n",
       " (0.0040133042750309265, 'S'),\n",
       " (0.0037846886018857804, 'A'),\n",
       " (0.003701016806624441, 'C'),\n",
       " (0.003467173635608192, 'cabin_number'),\n",
       " (0.00080790283707000976, 'E'),\n",
       " (0.0002691505287352045, 'F'),\n",
       " (0.00023393790571566599, 'G'),\n",
       " (0.0, 'C')]"
      ]
     },
     "execution_count": 15,
     "metadata": {},
     "output_type": "execute_result"
    }
   ],
   "source": [
    "param_grid = [\n",
    "    {'n_estimators': [50, 60, 70], 'max_features': [12, 14, 16]},\n",
    "    {'bootstrap': [False], 'n_estimators': [20, 50, 80], 'max_features': [4, 10, 16]}\n",
    "]\n",
    "\n",
    "grid_search = GridSearchCV(RandomForestClassifier(), param_grid, cv=5, scoring='neg_mean_squared_error')\n",
    "grid_search.fit(train_set_prepared, train_set_labels)\n",
    "\n",
    "predict(grid_search.best_estimator_, test_set_prepared, test_set_labels)\n",
    "print(\"Best Params: \", grid_search.best_params_)\n",
    "\n",
    "feature_importances = grid_search.best_estimator_.feature_importances_\n",
    "named_feature_importances = sorted(zip(feature_importances, attributes), reverse=True)\n",
    "print(\"Feature Importances: \")\n",
    "named_feature_importances"
   ]
  },
  {
   "cell_type": "code",
   "execution_count": null,
   "metadata": {},
   "outputs": [],
   "source": []
  }
 ],
 "metadata": {
  "kernelspec": {
   "display_name": "Python 3",
   "language": "python",
   "name": "python3"
  },
  "language_info": {
   "codemirror_mode": {
    "name": "ipython",
    "version": 3
   },
   "file_extension": ".py",
   "mimetype": "text/x-python",
   "name": "python",
   "nbconvert_exporter": "python",
   "pygments_lexer": "ipython3",
   "version": "3.6.3"
  }
 },
 "nbformat": 4,
 "nbformat_minor": 2
}
