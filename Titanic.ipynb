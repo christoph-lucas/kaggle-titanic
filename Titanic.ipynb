{
 "cells": [
  {
   "cell_type": "markdown",
   "metadata": {},
   "source": [
    "# Imports"
   ]
  },
  {
   "cell_type": "code",
   "execution_count": 2,
   "metadata": {},
   "outputs": [],
   "source": [
    "%reload_ext autoreload\n",
    "%autoreload 2\n",
    "%matplotlib inline\n",
    "\n",
    "from utils.data_handling import *\n",
    "\n",
    "from sklearn.model_selection import train_test_split, cross_val_score, GridSearchCV\n",
    "from sklearn.preprocessing import Imputer, LabelBinarizer, StandardScaler\n",
    "from sklearn.pipeline import Pipeline, FeatureUnion\n",
    "from sklearn.tree import DecisionTreeClassifier\n",
    "from sklearn.linear_model import LinearRegression\n",
    "from sklearn.ensemble import RandomForestClassifier\n",
    "from sklearn.metrics import mean_squared_error\n",
    "\n",
    "import pandas as pd\n",
    "import numpy as np\n",
    "import os\n",
    "\n",
    "from statsmodels.graphics.mosaicplot import mosaic\n",
    "\n",
    "import matplotlib as plt"
   ]
  },
  {
   "cell_type": "markdown",
   "metadata": {},
   "source": [
    "# Load and Split Data"
   ]
  },
  {
   "cell_type": "code",
   "execution_count": 3,
   "metadata": {},
   "outputs": [
    {
     "name": "stdout",
     "output_type": "stream",
     "text": [
      "712 train + 179 test\n"
     ]
    }
   ],
   "source": [
    "csv_path = os.path.join(\"datasets\", \"titanic-train.csv\")\n",
    "passengers_raw = pd.read_csv(csv_path)\n",
    "\n",
    "train_set, test_set = train_test_split(passengers_raw, test_size=0.2, random_state=32)\n",
    "print(len(train_set), \"train +\", len(test_set), \"test\")\n",
    "train_set = train_set.drop([\"PassengerId\", \"Name\", \"Ticket\"], axis=1)\n",
    "test_set = test_set.drop([\"PassengerId\", \"Name\", \"Ticket\"], axis=1)"
   ]
  },
  {
   "cell_type": "markdown",
   "metadata": {},
   "source": [
    "# Feature Engineering Pipeline"
   ]
  },
  {
   "cell_type": "code",
   "execution_count": 4,
   "metadata": {},
   "outputs": [],
   "source": [
    "num_attribs = [\"Age\", \"SibSp\", \"Parch\", \"Fare\"]\n",
    "num_pipeline = Pipeline([\n",
    "    ('selector', DataFrameSelector(num_attribs)),\n",
    "    ('imputer', Imputer(strategy=\"median\")),\n",
    "    ('std_scaler', StandardScaler())\n",
    "])\n",
    "\n",
    "# cat_attribs = [\"Pclass\", \"Sex\", \"Embarked\"]\n",
    "class_encoder = PipelineLabelBinarizer()\n",
    "class_pipeline = Pipeline([\n",
    "    ('selector', DataFrameSelector([\"Pclass\"])),\n",
    "    ('label_binarizer', class_encoder)\n",
    "])\n",
    "\n",
    "sex_encoder = PipelineLabelBinarizer()\n",
    "sex_pipeline = Pipeline([\n",
    "    ('selector', DataFrameSelector([\"Sex\"])),\n",
    "    ('label_binarizer', sex_encoder)\n",
    "])\n",
    "\n",
    "embarked_encoder = PipelineLabelBinarizer()\n",
    "embarked_pipeline = Pipeline([\n",
    "    ('fillna', FillNaWith([\"Embarked\"])),\n",
    "    ('selector', DataFrameSelector([\"Embarked\"])),\n",
    "    ('label_binarizer', embarked_encoder)\n",
    "])\n",
    "\n",
    "cabin_transformer = CabinTransformer()\n",
    "cabin_pipeline = Pipeline([\n",
    "    ('fillna', FillNaWith([\"Cabin\"], '')),\n",
    "    ('selector', DataFrameSelector([\"Cabin\"])),\n",
    "    ('cabin_transformer', cabin_transformer)\n",
    "])\n",
    "\n",
    "combined_features = FeatureUnion(transformer_list=[\n",
    "    (\"num_pipeline\", num_pipeline),\n",
    "    (\"class_pipeline\", class_pipeline),\n",
    "    (\"sex_pipeline\", sex_pipeline),\n",
    "    (\"embarked_pipeline\", embarked_pipeline),\n",
    "    (\"cabin_pipeline\", cabin_pipeline)\n",
    "])\n",
    "\n",
    "full_pipeline = Pipeline([\n",
    "    ('features', combined_features),\n",
    "    ('clf', RandomForestClassifier(max_features=16, n_estimators=70))\n",
    "])"
   ]
  },
  {
   "cell_type": "markdown",
   "metadata": {},
   "source": [
    "# Train Model"
   ]
  },
  {
   "cell_type": "code",
   "execution_count": 5,
   "metadata": {},
   "outputs": [],
   "source": [
    "labelEncoder = LabelBinarizer();\n",
    "train_set_labels = unwrap_labels(labelEncoder.fit_transform(train_set[\"Survived\"].values))\n",
    "\n",
    "full_pipeline = full_pipeline.fit(train_set, train_set_labels)\n",
    "\n",
    "attributes = num_attribs + list(class_encoder.classes_) + list(sex_encoder.classes_) + list(embarked_encoder.classes_) + cabin_transformer.get_classes()"
   ]
  },
  {
   "cell_type": "markdown",
   "metadata": {},
   "source": [
    "# Evaluate Model"
   ]
  },
  {
   "cell_type": "code",
   "execution_count": 12,
   "metadata": {},
   "outputs": [
    {
     "name": "stdout",
     "output_type": "stream",
     "text": [
      "Correct:  143\n",
      "%Correct:  79.8882681564\n",
      "ROC AUC:  0.867175273865\n"
     ]
    },
    {
     "data": {
      "text/plain": [
       "0.86717527386541482"
      ]
     },
     "execution_count": 12,
     "metadata": {},
     "output_type": "execute_result"
    }
   ],
   "source": [
    "test_set_labels = unwrap_labels(labelEncoder.transform(test_set[\"Survived\"].values))\n",
    "\n",
    "predict(full_pipeline, test_set, np.asarray(test_set_labels))"
   ]
  },
  {
   "cell_type": "markdown",
   "metadata": {},
   "source": [
    "# Grid Search"
   ]
  },
  {
   "cell_type": "code",
   "execution_count": 19,
   "metadata": {},
   "outputs": [
    {
     "name": "stdout",
     "output_type": "stream",
     "text": [
      "Correct:  145\n",
      "%Correct:  81.0055865922\n",
      "ROC AUC:  0.86860980699\n",
      "Best Params:  {'clf__max_features': 12, 'clf__n_estimators': 60}\n",
      "Feature Importances: \n"
     ]
    },
    {
     "data": {
      "text/plain": [
       "[(0.26944648581150227, 'female'),\n",
       " (0.22352443056248064, 'Age'),\n",
       " (0.19597210198978307, 'Fare'),\n",
       " (0.0687068592817945, 3),\n",
       " (0.061389701166082791, 'X'),\n",
       " (0.05041275774687614, 'SibSp'),\n",
       " (0.02905851760390318, 'Parch'),\n",
       " (0.01890909693337332, 'T'),\n",
       " (0.014141356068807476, 'Q'),\n",
       " (0.013280059219022056, 'male'),\n",
       " (0.01114567079973326, 2),\n",
       " (0.010974791166024896, 1),\n",
       " (0.0066402678074940127, 'Null'),\n",
       " (0.0064782035510926152, 'D'),\n",
       " (0.0057781604421310315, 'B'),\n",
       " (0.0035382512946244412, 'cabin_number'),\n",
       " (0.0031563024739848285, 'A'),\n",
       " (0.0026103539799442309, 'S'),\n",
       " (0.0024891590112556582, 'C'),\n",
       " (0.0012889998654350213, 'E'),\n",
       " (0.00081259634452738694, 'F'),\n",
       " (0.00019551334106591845, 'G'),\n",
       " (5.0363539061249508e-05, 'C')]"
      ]
     },
     "execution_count": 19,
     "metadata": {},
     "output_type": "execute_result"
    }
   ],
   "source": [
    "param_grid = [\n",
    "    {'clf__n_estimators': [50, 60], 'clf__max_features': [12]},\n",
    "    # {'clf__n_estimators': [50, 60, 70], 'clf__max_features': [12, 14, 16]},\n",
    "    # {'clf__bootstrap': [False], 'clf__n_estimators': [20, 50, 80], 'clf__max_features': [4, 10, 16]}\n",
    "]\n",
    "\n",
    "grid_search = GridSearchCV(full_pipeline, param_grid, cv=5, scoring='neg_mean_squared_error')\n",
    "grid_search.fit(train_set, train_set_labels)\n",
    "\n",
    "predict(grid_search.best_estimator_, test_set, test_set_labels)\n",
    "print(\"Best Params: \", grid_search.best_params_)\n",
    "\n",
    "feature_importances = grid_search.best_estimator_.named_steps['clf'].feature_importances_\n",
    "named_feature_importances = sorted(zip(feature_importances, attributes), reverse=True)\n",
    "print(\"Feature Importances: \")\n",
    "named_feature_importances"
   ]
  },
  {
   "cell_type": "code",
   "execution_count": null,
   "metadata": {},
   "outputs": [],
   "source": []
  }
 ],
 "metadata": {
  "kernelspec": {
   "display_name": "Python 3",
   "language": "python",
   "name": "python3"
  },
  "language_info": {
   "codemirror_mode": {
    "name": "ipython",
    "version": 3
   },
   "file_extension": ".py",
   "mimetype": "text/x-python",
   "name": "python",
   "nbconvert_exporter": "python",
   "pygments_lexer": "ipython3",
   "version": "3.6.3"
  }
 },
 "nbformat": 4,
 "nbformat_minor": 2
}
